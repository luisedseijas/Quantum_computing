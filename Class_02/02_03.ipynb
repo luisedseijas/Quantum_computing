{
 "cells": [
  {
   "cell_type": "markdown",
   "metadata": {},
   "source": [
    "## Entendiendo las puertas multi-qubit\n",
    "\n",
    "Dos o más qubits pueden combinar sus estados mediante su **producto tensorial**, o a veces referido como el **producto de Kronecker**. Para mayor conveniencia, aquí se proporciona la representación del vector:\n",
    "\n",
    "$$\n",
    "|a\\rangle \\otimes |b\\rangle = |ab\\rangle\n",
    "$$\n",
    "\n",
    "Para dos qubits, específicamente, $$ |0\\rangle = \\begin{pmatrix}1 \\\\ 0\\end{pmatrix} $$ y $$ |1\\rangle = \\begin{pmatrix}0 \\\\ 1\\end{pmatrix} $$, y sus amplitudes complejas $ v_0 $ y $ v_1 $, respectivamente, su producto tensorial se expresa de la siguiente manera:\n",
    "\n",
    "$$\n",
    "v_{00}|00\\rangle + v_{01}|01\\rangle + v_{10}|10\\rangle + v_{11}|11\\rangle = \\begin{pmatrix} v_{00} \\\\ v_{01} \\\\ v_{10} \\\\ v_{11} \\end{pmatrix} = |\\psi\\rangle\n",
    "$$\n",
    "\n",
    "El vector que resulta al aplicar el producto tensorial es el estado base de los dos qubits, $ |\\psi\\rangle $.\n",
    "\n",
    "En esta sección, discutiremos las puertas multi-qubit y cómo operan sobre los qubits de manera similar a cómo lo hacen las puertas de un solo qubit, lo que incluye ser unitarias y reversibles. En la siguiente ecuación, una puerta multi-qubit, representada por una matriz $ U $, se multiplica por un vector de estado cuántico $ |\\psi_0\\rangle $ para producir el vector de estado cuántico resultante $ |\\psi_2\\rangle $:\n",
    "\n",
    "$$\n",
    "U|\\psi_0\\rangle = |\\psi_2\\rangle\n",
    "$$\n",
    "\n",
    "Para mantener las descripciones y los ejemplos uniformes, las siguientes descripciones de las puertas multi-qubit se presentarán de la misma manera que las puertas de un solo qubit. Crearemos una nueva función auxiliar similar a la que utilizamos anteriormente para los circuitos de un solo qubit. \n",
    "\n",
    "La función auxiliar tendrá algunas diferencias, la primera de las cuales será el **simulador** que usaremos para ejecutar los circuitos:\n"
   ]
  },
  {
   "cell_type": "code",
   "execution_count": 1,
   "metadata": {},
   "outputs": [],
   "source": [
    "from qiskit_aer import Aer\n",
    "from qiskit.visualization import plot_histogram\n",
    "from qiskit import QuantumCircuit\n",
    "\n",
    "def execute_circuit(quantum_circuit):\n",
    "    \"\"\"\n",
    "    Ejecuta un circuito cuántico en el simulador QASM, obtiene los resultados,\n",
    "    dibuja el circuito y genera un histograma de los resultados.\n",
    "\n",
    "    Args:\n",
    "        quantum_circuit (QuantumCircuit): El circuito cuántico a ejecutar.\n",
    "\n",
    "    Returns:\n",
    "        tuple: Una tupla que contiene:\n",
    "            - results (dict): Resultados del conteo de las mediciones.\n",
    "            - circuit_diagram (matplotlib.figure.Figure): Representación del circuito.\n",
    "            - histogram (matplotlib.figure.Figure): Figura del histograma de los resultados.\n",
    "    \"\"\"\n",
    "    # Crear un simulador QASM\n",
    "    simulator = Aer.get_backend('qasm_simulator')\n",
    "    \n",
    "    # Ejecutar el circuito en el simulador\n",
    "    job = simulator.run(quantum_circuit, shots=1024)\n",
    "    result = job.result()\n",
    "    \n",
    "    # Obtener los resultados de los conteos\n",
    "    results = result.get_counts()\n",
    "    \n",
    "    # Dibujar el circuito\n",
    "    circuit_diagram = quantum_circuit.draw(output='mpl')\n",
    "    \n",
    "    # Crear un histograma de los resultados\n",
    "    histogram = plot_histogram(results)\n",
    "    \n",
    "    # Retornar los resultados, el diagrama del circuito y el histograma\n",
    "    return results, circuit_diagram, histogram\n"
   ]
  },
  {
   "cell_type": "markdown",
   "metadata": {},
   "source": [
    "Cambiaremos de usar el simulador de vectores de estado al simulador Qasm. **Qasm**, abreviatura de **Quantum Assembly language** (pronunciado como *kazm*), es un lenguaje de programación utilizado para describir las funciones que conforman los circuitos y operaciones cuánticas. Es el lenguaje de programación sobre el cual se construye Qiskit como una biblioteca de Python.\n",
    "\n",
    "El propósito de cambiar al simulador Qasm no es que no podamos usar el simulador de vectores de estado, sino principalmente para observar algunas de las características interesantes de nuestro circuito y las puertas. Para aquellos que deseen seguir usando el simulador de vectores de estado, no se preocupen. Habrá desafíos en la sección de **Preguntas**, al final de este notebook, que les permitirán utilizarlo.\n",
    "\n",
    "Otra diferencia que notarás es que ya no utilizaremos el QSphere para visualizar los estados cuánticos. En su lugar, reemplazaremos la salida del QSphere con un histograma que muestra los conteos de los resultados. Para cada circuito que crearemos, incluiremos más de un qubit, ya que estas puertas multi-qubit operan sobre dos o más qubits.\n"
   ]
  },
  {
   "cell_type": "code",
   "execution_count": null,
   "metadata": {},
   "outputs": [],
   "source": []
  }
 ],
 "metadata": {
  "kernelspec": {
   "display_name": "venv",
   "language": "python",
   "name": "python3"
  },
  "language_info": {
   "codemirror_mode": {
    "name": "ipython",
    "version": 3
   },
   "file_extension": ".py",
   "mimetype": "text/x-python",
   "name": "python",
   "nbconvert_exporter": "python",
   "pygments_lexer": "ipython3",
   "version": "3.10.12"
  }
 },
 "nbformat": 4,
 "nbformat_minor": 2
}
