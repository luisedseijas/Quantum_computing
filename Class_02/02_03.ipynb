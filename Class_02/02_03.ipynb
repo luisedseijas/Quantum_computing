{
 "cells": [
  {
   "cell_type": "markdown",
   "metadata": {},
   "source": [
    "## Entendiendo las puertas multi-qubit\n",
    "\n",
    "Dos o más qubits pueden combinar sus estados mediante su **producto tensorial**, o a veces referido como el **producto de Kronecker**. Para mayor conveniencia, aquí se proporciona la representación del vector:\n",
    "\n",
    "$$\n",
    "|a\\rangle \\otimes |b\\rangle = |ab\\rangle\n",
    "$$\n",
    "\n",
    "Para dos qubits, específicamente, $$ |0\\rangle = \\begin{pmatrix}1 \\\\ 0\\end{pmatrix} $$ y $$ |1\\rangle = \\begin{pmatrix}0 \\\\ 1\\end{pmatrix} $$, y sus amplitudes complejas $ v_0 $ y $ v_1 $, respectivamente, su producto tensorial se expresa de la siguiente manera:\n",
    "\n",
    "$$\n",
    "v_{00}|00\\rangle + v_{01}|01\\rangle + v_{10}|10\\rangle + v_{11}|11\\rangle = \\begin{pmatrix} v_{00} \\\\ v_{01} \\\\ v_{10} \\\\ v_{11} \\end{pmatrix} = |\\psi\\rangle\n",
    "$$\n",
    "\n",
    "El vector que resulta al aplicar el producto tensorial es el estado base de los dos qubits, $ |\\psi\\rangle $.\n",
    "\n",
    "En esta sección, discutiremos las puertas multi-qubit y cómo operan sobre los qubits de manera similar a cómo lo hacen las puertas de un solo qubit, lo que incluye ser unitarias y reversibles. En la siguiente ecuación, una puerta multi-qubit, representada por una matriz $ U $, se multiplica por un vector de estado cuántico $ |\\psi_0\\rangle $ para producir el vector de estado cuántico resultante $ |\\psi_2\\rangle $:\n",
    "\n",
    "$$\n",
    "U|\\psi_0\\rangle = |\\psi_2\\rangle\n",
    "$$\n",
    "\n",
    "Para mantener las descripciones y los ejemplos uniformes, las siguientes descripciones de las puertas multi-qubit se presentarán de la misma manera que las puertas de un solo qubit. Crearemos una nueva función auxiliar similar a la que utilizamos anteriormente para los circuitos de un solo qubit. \n",
    "\n",
    "La función auxiliar tendrá algunas diferencias, la primera de las cuales será el **simulador** que usaremos para ejecutar los circuitos:\n"
   ]
  },
  {
   "cell_type": "code",
   "execution_count": 20,
   "metadata": {},
   "outputs": [],
   "source": [
    "from qiskit_aer import Aer\n",
    "from qiskit.visualization import plot_histogram\n",
    "\n",
    "def execute_circuit(quantum_circuit):\n",
    "    \"\"\"\n",
    "    Ejecuta un circuito cuántico en el simulador QASM, obtiene los resultados,\n",
    "    dibuja el circuito y genera un histograma de los resultados.\n",
    "\n",
    "    Args:\n",
    "        quantum_circuit (QuantumCircuit): El circuito cuántico a ejecutar.\n",
    "\n",
    "    Returns:\n",
    "        tuple: Una tupla que contiene:\n",
    "            - results (dict): Resultados del conteo de las mediciones.\n",
    "            - circuit_diagram (str): Representación textual del circuito.\n",
    "            - histogram (matplotlib.figure.Figure): Figura del histograma de los resultados.\n",
    "    \"\"\"\n",
    "    # Crear el simulador QASM\n",
    "    simulator = Aer.get_backend('qasm_simulator')\n",
    "    \n",
    "    # Ejecutar el circuito directamente con el método run\n",
    "    job = simulator.run(quantum_circuit, shots=1024)\n",
    "    result = job.result()\n",
    "    \n",
    "    # Obtener los resultados de las mediciones\n",
    "    results = result.get_counts()\n",
    "    \n",
    "    # Dibujar el circuito\n",
    "    circuit_diagram = quantum_circuit.draw(output='mpl')  # Compatibilidad con Qiskit 1.3.0\n",
    "    \n",
    "    # Crear un histograma de los resultados\n",
    "    histogram = plot_histogram(results)\n",
    "    \n",
    "    # Retornar los resultados, el diagrama del circuito y el histograma\n",
    "    return results, circuit_diagram, histogram\n"
   ]
  },
  {
   "cell_type": "markdown",
   "metadata": {},
   "source": [
    "Cambiaremos de usar el simulador de vectores de estado al simulador Qasm. **Qasm**, abreviatura de **Quantum Assembly language** (pronunciado como *kazm*), es un lenguaje de programación utilizado para describir las funciones que conforman los circuitos y operaciones cuánticas. Es el lenguaje de programación sobre el cual se construye Qiskit como una biblioteca de Python.\n",
    "\n",
    "El propósito de cambiar al simulador Qasm no es que no podamos usar el simulador de vectores de estado, sino principalmente para observar algunas de las características interesantes de nuestro circuito y las puertas. Para aquellos que deseen seguir usando el simulador de vectores de estado, no se preocupen. Habrá desafíos en la sección de **Preguntas**, al final de este notebook, que les permitirán utilizarlo.\n",
    "\n",
    "Otra diferencia que notarás es que ya no utilizaremos el QSphere para visualizar los estados cuánticos. En su lugar, reemplazaremos la salida del QSphere con un histograma que muestra los conteos de los resultados. Para cada circuito que crearemos, incluiremos más de un qubit, ya que estas puertas multi-qubit operan sobre dos o más qubits.\n",
    "\n",
    "Ahora que tenemos nuestra función auxiliar, ejecutémosla y pasemos al siguiente conjunto de puertas, las **puertas multi-qubit**. Estas incluyen:\n",
    "\n",
    "- La puerta CNOT\n",
    "- La puerta Toffoli\n",
    "- La puerta Swap\n",
    "\n",
    "Aprenderemos sobre estas puertas en las siguientes secciones.\n",
    "\n",
    "### Aprendiendo sobre la puerta multi-qubit CNOT\n",
    "\n",
    "La puerta **CNOT**, a menudo conocida como puerta de Control-NOT, es similar a la puerta XOR de los bits clásicos. La puerta CNOT se compone de dos partes.\n",
    "\n",
    "La primera parte es el **Control**, que está conectado a uno de los qubits y es lo que desencadena que la puerta CNOT realice una operación en el otro qubit conectado al otro extremo de la puerta CNOT, el **Target**.\n",
    "\n",
    "El **Target** es una operación que se realizará en el otro qubit; en este caso, es una operación NOT. Recordemos de la sección anterior sobre puertas de un solo qubit que la puerta NOT rota el qubit alrededor del eje **x** por $\\pi /2$. La puerta CNOT es una de las puertas multi-qubit más utilizadas, ya que es la forma en que los qubits se entrelazan.\n",
    "\n",
    "La puerta $CNOT$ también se describe como una puerta de Control-X (CX) ya que el target a menudo se codifica como una operación $X$. Verás esta convención de puerta CX al ejecutar el siguiente ejemplo. La representación matricial de una puerta CNOT es una matriz de 4x4 debido al producto tensorial de dos qubits, como se ilustra aquí:\n",
    "\n",
    "$$\n",
    "\\text{CNOT} =\n",
    "\\begin{bmatrix}\n",
    "1 & 0 & 0 & 0 \\\\\n",
    "0 & 1 & 0 & 0 \\\\\n",
    "0 & 0 & 0 & 1 \\\\\n",
    "0 & 0 & 1 & 0 \\\\\n",
    "\\end{bmatrix}\n",
    "$$\n",
    "\n",
    "***Nota*** que el cuadrante superior izquierdo de 2x2 de la matriz $CNOT$ representa una matriz de identidad, $I$, y el cuadrante inferior derecho de 2x2 representa la matriz $X$.\n",
    "\n",
    "La siguiente tabla de verdad ilustra que cuando el qubit de control (el lado izquierdo del vector de entrada) es 0, no hay cambios en el qubit objetivo (el lado derecho del vector de entrada). Cuando el qubit de control está en 1, entonces la operación en el qubit objetivo está habilitada y, por lo tanto, rota el qubit objetivo alrededor del eje **x** por π (es decir, 180°):\n",
    "\n",
    "<table>\n",
    "  <tr>\n",
    "    <th>Entrada</th>\n",
    "    <th>Salida</th>\n",
    "  </tr>\n",
    "  <tr>\n",
    "    <td>|00⟩</td>\n",
    "    <td>|00⟩</td>\n",
    "  </tr>\n",
    "  <tr>\n",
    "    <td>|01⟩</td>\n",
    "    <td>|01⟩</td>\n",
    "  </tr>\n",
    "  <tr>\n",
    "    <td>|10⟩</td>\n",
    "    <td>|11⟩</td>\n",
    "  </tr>\n",
    "  <tr>\n",
    "    <td>|11⟩</td>\n",
    "    <td>|10⟩</td>\n",
    "  </tr>\n",
    "</table>\n",
    "\n",
    "Ahora vamos a crear un circuito, agregar una puerta CNOT y ejecutarlo:\n",
    "\n",
    "1. Comenzaremos creando un circuito cuántico de dos qubits y aplicando una puerta de Hadamard al primer qubit, y una puerta CNOT a los dos qubits, donde el Control se establece en el primer qubit y el Target se establece en el segundo qubit.\n",
    "\n",
    "\n"
   ]
  },
  {
   "cell_type": "code",
   "execution_count": 21,
   "metadata": {},
   "outputs": [
    {
     "name": "stdout",
     "output_type": "stream",
     "text": [
      "Resultados de las mediciones: {'11': 501, '00': 523}\n",
      "\n",
      "Diagrama del circuito:\n"
     ]
    },
    {
     "data": {
      "image/png": "[encoded data removed]",
      "text/plain": [
       "<Figure size 454.517x284.278 with 1 Axes>"
      ]
     },
     "execution_count": 21,
     "metadata": {},
     "output_type": "execute_result"
    }
   ],
   "source": [
    "from qiskit import QuantumCircuit\n",
    "\n",
    "# Crear un circuito cuántico simple\n",
    "qc = QuantumCircuit(2, 2)\n",
    "qc.h(0)  # Puerta Hadamard en el qubit 0\n",
    "qc.cx(0, 1)  # Puerta CNOT con qubit 0 como control y qubit 1 como objetivo\n",
    "qc.measure([0, 1], [0, 1])  # Medir ambos qubits\n",
    "\n",
    "# Ejecutar el circuito\n",
    "results, circuit_diagram, histogram = execute_circuit(qc)\n",
    "\n",
    "# Mostrar los resultados\n",
    "print(\"Resultados de las mediciones:\", results)\n",
    "print(\"\\nDiagrama del circuito:\")\n",
    "circuit_diagram\n"
   ]
  },
  {
   "cell_type": "markdown",
   "metadata": {},
   "source": [
    "2. Vamos a examinar el vector de estado "
   ]
  },
  {
   "cell_type": "code",
   "execution_count": 22,
   "metadata": {},
   "outputs": [
    {
     "data": {
      "image/png": "[encoded data removed]",
      "text/plain": [
       "<Figure size 640x480 with 1 Axes>"
      ]
     },
     "execution_count": 22,
     "metadata": {},
     "output_type": "execute_result"
    }
   ],
   "source": [
    "histogram"
   ]
  },
  {
   "cell_type": "markdown",
   "metadata": {},
   "source": [
    "Los resultados de las puertas anteriores son solo una pequeña muestra, como puedes observar en algunos de los qubits personalizados, como la puerta $ R_x $ o la puerta $CNOT$, que te permiten rotar cualquier estado en la QSphere para cada qubit.\n",
    "\n",
    "Ahora veamos operadores que no son reversibles, pero que aún son cuánticos. No te preocupes, no estoy contradiciendo mi declaración anterior que requiere que los operadores cuánticos sean unitarios y, por lo tanto, reversibles.\n"
   ]
  }
 ],
 "metadata": {
  "kernelspec": {
   "display_name": "venv",
   "language": "python",
   "name": "python3"
  },
  "language_info": {
   "codemirror_mode": {
    "name": "ipython",
    "version": 3
   },
   "file_extension": ".py",
   "mimetype": "text/x-python",
   "name": "python",
   "nbconvert_exporter": "python",
   "pygments_lexer": "ipython3",
   "version": "3.10.12"
  }
 },
 "nbformat": 4,
 "nbformat_minor": 2
}
