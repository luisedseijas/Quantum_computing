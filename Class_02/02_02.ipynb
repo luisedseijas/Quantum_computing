{
 "cells": [
  {
   "cell_type": "markdown",
   "metadata": {},
   "source": [
    "## Entendiendo el bit cuántico (qubit)\n",
    "\n",
    "Todos estamos muy familiarizados con el bit clásico, o simplemente bit, en los sistemas de hardware actuales. Es la unidad fundamental utilizada para calcular todo, desde problemas matemáticos simples, como suma y multiplicación, hasta algoritmos más complejos que involucran grandes cantidades de información.\n",
    "\n",
    "Las computadoras cuánticas tienen una unidad fundamental similar llamada bit cuántico o qubit, como se le conoce comúnmente. Un qubit se describe desde una perspectiva tanto matemática (computacional) como de hardware. También se abordan las diferencias entre qubits y bits, particularmente en cómo se definen los cálculos. Además, se transiciona de qubits individuales a múltiples qubits, destacando las ventajas de los sistemas multi-qubit.\n",
    "\n",
    "También se proporciona una visión general de las diversas implementaciones de hardware y cómo los diferentes sistemas cuánticos implementan sus qubits para procesar información. Finalmente, se analiza cómo los sistemas cuánticos leen y controlan el flujo de información hacia y desde un qubit en un sistema clásico.\n",
    "\n",
    "### Los temas abordados incluyen:\n",
    "\n",
    "- Aprender sobre los bits cuánticos (qubits).\n",
    "- Visualizar el vector de estado de un qubit.\n",
    "- Diferenciar entre un bit y un qubit.\n",
    "- Comprender qubits individuales y multi-qubits.\n",
    "- Aprender sobre sistemas de hardware cuántico.\n",
    "- Leer información y controlar qubits individuales y multi-qubits.\n",
    "\n",
    "Esta sección se centra en la unidad fundamental de una computadora cuántica, el qubit, para ayudar a comprender cómo se utilizan para calcular información, así como cómo varios sistemas cuánticos manipulan y leen información del qubit. \n",
    "\n",
    "Dado que las descripciones y cálculos son independientes del hardware, gran parte de la información que se cubre es aplicable a la mayoría de los sistemas de hardware cuántico disponibles.\n",
    "\n"
   ]
  },
  {
   "cell_type": "markdown",
   "metadata": {},
   "source": [
    "# Aprendiendo sobre bits cuánticos (qubits)\n",
    "\n",
    "En esta sección, revisaremos los bloques fundamentales de un bit clásico y algunas de las operaciones que se realizan sobre ellos mediante puertas clásicas. Luego, aprenderemos sobre la unidad fundamental de una computadora cuántica, el **bit cuántico (qubit)**, y cómo es similar al bit, pero debido a sus principios computacionales cuánticos, tiene un espacio computacional mayor que el bit.\n",
    "\n",
    "## Revisando el bit clásico\n",
    "\n",
    "Antes de profundizar en qué es un qubit y cómo se utiliza, tomemos un momento para refrescar nuestra memoria sobre el bit clásico. Al igual que el qubit es el bloque fundamental de los algoritmos cuánticos, el bit tiene el mismo rol en los sistemas computacionales clásicos.\n",
    "\n",
    "En los sistemas computacionales, el bit se utiliza para definir un estado lógico, que a menudo se refiere como encendido o apagado, verdadero o falso, o la opción más común: 1 o 0. La transición entre estados puede aplicarse físicamente, ya sea después de ser activada por alguna operación, como el resultado de una **puerta AND**, o como resultado de una entrada proveniente de una fuente de datos externa; por ejemplo, la lectura desde una fuente de datos externa.\n"
   ]
  },
  {
   "cell_type": "code",
   "execution_count": 1,
   "metadata": {},
   "outputs": [
    {
     "name": "stdout",
     "output_type": "stream",
     "text": [
      "0b101\n"
     ]
    }
   ],
   "source": [
    "# Sumando dos numeros binarios\n",
    "dos = '010'\n",
    "tres = '011'\n",
    "suma = bin(int(dos, 2) + int(tres, 2))\n",
    "print(suma)"
   ]
  },
  {
   "cell_type": "markdown",
   "metadata": {},
   "source": [
    "Ejecutar el fragmento de código anterior resultará en 5, pero como puedes ver, la salida se escribe como el valor binario de 5, es decir, `0b101`. El código lee las dos primeras variables como cadenas, `'010'` y `'011'`. Los valores de las cadenas se convierten a enteros (`int`) antes de sumarlos utilizando aritmética módulo 2, devolviendo el resultado como una cadena binaria llamada `suma`. \n",
    "\n",
    "La aritmética módulo 2 es el resultado de aplicar una operación XOR entre dos bits, es decir, $ (1+0) \\mod 2 = 1 \\; \\text{XOR} \\; 0 $, que también puede escribirse como dos números binarios, $ x_1 $ y $ x_2 $; es decir, $ x_1 \\oplus x_2 $.\n",
    "\n",
    "**Entonces, ¿por qué pasamos por un ejemplo tan simple?**\n",
    "\n",
    "El objetivo no es hacer con un cálculo binario sencillo; la idea era proporcionar un repaso sobre la mecánica de lo que sucede con la información en un sistema clásico. De esta forma, al describir el sistema cuántico, te ayudará a comparar y contrastar las diferencias en cómo la información se crea, calcula y almacena. Con esto, pasaremos a la siguiente sección para describir qué es un qubit.\n"
   ]
  },
  {
   "cell_type": "markdown",
   "metadata": {},
   "source": [
    "## Creando la representación de la esfera de Bloch de un qubit\n",
    "\n",
    "Sigue estos pasos para crear la esfera de Bloch de un qubit en el estado inicial \\( |0\\rangle \\), de manera que podamos visualizar el vector de estado y la fase de un qubit:\n",
    "\n",
    "1. Abre un nuevo Notebook de Qiskit y escribe lo siguiente en una celda. Usaremos algunas herramientas de visualización que están incluidas en Qiskit para ayudar a visualizar los estados de los qubits. En capítulos futuros, exploraremos cómo los operadores, como las puertas de qubits, afectan los estados del vector:\n",
    "\n",
    "El código anterior importa dos funciones que te permiten visualizar el estado de un qubit. Estas herramientas son ideales cuando deseas obtener información sobre el estado mientras creas tu circuito. Existen muchas otras herramientas de visualización incluidas con Qiskit, pero para los propósitos de este capítulo, nos enfocaremos en estas dos, ya que brindan suficiente detalle para cubrir la información que necesitamos.\n"
   ]
  },
  {
   "cell_type": "code",
   "execution_count": null,
   "metadata": {},
   "outputs": [],
   "source": [
    "from qiskit.visualization import plot_state_qsphere\n",
    "from qiskit.visualization import plot_bloch_multivector"
   ]
  }
 ],
 "metadata": {
  "kernelspec": {
   "display_name": "venv",
   "language": "python",
   "name": "python3"
  },
  "language_info": {
   "codemirror_mode": {
    "name": "ipython",
    "version": 3
   },
   "file_extension": ".py",
   "mimetype": "text/x-python",
   "name": "python",
   "nbconvert_exporter": "python",
   "pygments_lexer": "ipython3",
   "version": "3.10.12"
  }
 },
 "nbformat": 4,
 "nbformat_minor": 2
}
