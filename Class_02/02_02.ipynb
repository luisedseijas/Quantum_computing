{
 "cells": [
  {
   "cell_type": "markdown",
   "metadata": {},
   "source": [
    "## Entendiendo el bit cuántico (qubit)\n",
    "\n",
    "Todos estamos muy familiarizados con el bit clásico, o simplemente bit, en los sistemas de hardware actuales. Es la unidad fundamental utilizada para calcular todo, desde problemas matemáticos simples, como suma y multiplicación, hasta algoritmos más complejos que involucran grandes cantidades de información.\n",
    "\n",
    "Las computadoras cuánticas tienen una unidad fundamental similar llamada bit cuántico o qubit, como se le conoce comúnmente. Un qubit se describe desde una perspectiva tanto matemática (computacional) como de hardware. También se abordan las diferencias entre qubits y bits, particularmente en cómo se definen los cálculos. Además, se transiciona de qubits individuales a múltiples qubits, destacando las ventajas de los sistemas multi-qubit.\n",
    "\n",
    "También se proporciona una visión general de las diversas implementaciones de hardware y cómo los diferentes sistemas cuánticos implementan sus qubits para procesar información. Finalmente, se analiza cómo los sistemas cuánticos leen y controlan el flujo de información hacia y desde un qubit en un sistema clásico.\n",
    "\n",
    "### Los temas abordados incluyen:\n",
    "\n",
    "- Aprender sobre los bits cuánticos (qubits).\n",
    "- Visualizar el vector de estado de un qubit.\n",
    "- Diferenciar entre un bit y un qubit.\n",
    "- Comprender qubits individuales y multi-qubits.\n",
    "- Aprender sobre sistemas de hardware cuántico.\n",
    "- Leer información y controlar qubits individuales y multi-qubits.\n",
    "\n",
    "Esta sección se centra en la unidad fundamental de una computadora cuántica, el qubit, para ayudar a comprender cómo se utilizan para calcular información, así como cómo varios sistemas cuánticos manipulan y leen información del qubit. \n",
    "\n",
    "Dado que las descripciones y cálculos son independientes del hardware, gran parte de la información que se cubre es aplicable a la mayoría de los sistemas de hardware cuántico disponibles.\n",
    "\n"
   ]
  },
  {
   "cell_type": "code",
   "execution_count": 1,
   "metadata": {},
   "outputs": [
    {
     "name": "stdout",
     "output_type": "stream",
     "text": [
      "0b101\n"
     ]
    }
   ],
   "source": [
    "# Sumando dos numeros binarios\n",
    "dos = '010'\n",
    "tres = '011'\n",
    "suma = bin(int(dos, 2) + int(tres, 2))\n",
    "print(suma)"
   ]
  }
 ],
 "metadata": {
  "kernelspec": {
   "display_name": "venv",
   "language": "python",
   "name": "python3"
  },
  "language_info": {
   "codemirror_mode": {
    "name": "ipython",
    "version": 3
   },
   "file_extension": ".py",
   "mimetype": "text/x-python",
   "name": "python",
   "nbconvert_exporter": "python",
   "pygments_lexer": "ipython3",
   "version": "3.10.12"
  }
 },
 "nbformat": 4,
 "nbformat_minor": 2
}
