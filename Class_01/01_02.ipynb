{
 "cells": [
  {
   "cell_type": "code",
   "execution_count": 2,
   "metadata": {},
   "outputs": [],
   "source": [
    "%matplotlib inline"
   ]
  },
  {
   "cell_type": "markdown",
   "metadata": {},
   "source": [
    "### Aprendiendo sobre los efectos de la interferencia entre cúbits\n",
    "\n",
    "Uno de los beneficios de la computación cuántica es su capacidad para entrelazar estos principios de tal manera que, al explicar uno, se puede describir fácilmente el otro. Hicimos esto anteriormente con respecto a la interferencia. Vamos a revisarlo y ver dónde hemos encontrado este fenómeno y su uso hasta ahora.\n",
    "\n",
    "Primero, recuerda que, al inicio de este capítulo, describimos el experimento de la doble rendija. Allí, discutimos cómo un electrón puede actuar como una onda y como una partícula. Al actuar como una onda, vimos que el experimento ilustraba cómo los electrones viajaban y aterrizaban en ciertos puntos de la pantalla de observación. El patrón que mostraban era generalmente uno que reconocemos de la física clásica como interferencia de ondas.\n",
    "\n",
    "El patrón tenía resultados probabilísticos a lo largo de la pantalla, como se muestra en la pantalla de observación. El centro de la pantalla tiene la mayor cantidad de electrones, y las áreas vacías a ambos lados tienen poco o ningún electrón. Esto se debe a la interferencia constructiva y destructiva de las ondas.\n",
    "\n",
    "Hay dos tipos de interferencia, a saber:\n",
    "\n",
    "1. **Constructiva**: La interferencia constructiva ocurre cuando los picos de dos ondas se suman y la amplitud resultante es igual a la suma positiva total de las dos ondas individuales.\n",
    "\n",
    "2. **Destructiva**: La interferencia destructiva ocurre de manera similar a la interferencia constructiva, excepto que las amplitudes de las ondas son opuestas; al sumarlas, las ondas se cancelan entre sí.\n",
    "\n",
    "El siguiente diagrama ilustra la interferencia constructiva y destructiva de las ondas cuando se combinan:\n",
    "\n",
    "![image.png](./Class_01/Figures/interference.png)"
   ]
  },
  {
   "cell_type": "code",
   "execution_count": null,
   "metadata": {},
   "outputs": [],
   "source": []
  }
 ],
 "metadata": {
  "kernelspec": {
   "display_name": "venv",
   "language": "python",
   "name": "python3"
  },
  "language_info": {
   "codemirror_mode": {
    "name": "ipython",
    "version": 3
   },
   "file_extension": ".py",
   "mimetype": "text/x-python",
   "name": "python",
   "nbconvert_exporter": "python",
   "pygments_lexer": "ipython3",
   "version": "3.10.12"
  }
 },
 "nbformat": 4,
 "nbformat_minor": 2
}
