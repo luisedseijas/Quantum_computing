{
 "cells": [
  {
   "cell_type": "code",
   "execution_count": 4,
   "metadata": {},
   "outputs": [],
   "source": [
    "%matplotlib inline\n",
    "from IPython.display import Image\n",
    "from qiskit import *\n",
    "from qiskit_ibm_runtime import *\n",
    "from qiskit.quantum_info import Statevector\n",
    "from qiskit.visualization import *\n",
    "from qiskit_aer import *\n",
    "\n",
    "# Cargar credenciales de IBM Quantum\n",
    "service = QiskitRuntimeService()"
   ]
  },
  {
   "cell_type": "markdown",
   "metadata": {},
   "source": [
    "### Aprendiendo sobre los efectos de la interferencia entre cúbits\n",
    "\n",
    "Uno de los beneficios de la computación cuántica es su capacidad para entrelazar estos principios de tal manera que, al explicar uno, se puede describir fácilmente el otro. Hicimos esto anteriormente con respecto a la interferencia. Vamos a revisarlo y ver dónde hemos encontrado este fenómeno y su uso hasta ahora.\n",
    "\n",
    "Primero, recuerda que, al inicio de este capítulo, describimos el experimento de la doble rendija. Allí, discutimos cómo un electrón puede actuar como una onda y como una partícula. Al actuar como una onda, vimos que el experimento ilustraba cómo los electrones viajaban y aterrizaban en ciertos puntos de la pantalla de observación. El patrón que mostraban era generalmente uno que reconocemos de la física clásica como interferencia de ondas.\n",
    "\n",
    "El patrón tenía resultados probabilísticos a lo largo de la pantalla, como se muestra en la pantalla de observación. El centro de la pantalla tiene la mayor cantidad de electrones, y las áreas vacías a ambos lados tienen poco o ningún electrón. Esto se debe a la interferencia constructiva y destructiva de las ondas.\n",
    "\n",
    "Hay dos tipos de interferencia, a saber:\n",
    "\n",
    "1. **Constructiva**: La interferencia constructiva ocurre cuando los picos de dos ondas se suman y la amplitud resultante es igual a la suma positiva total de las dos ondas individuales.\n",
    "\n",
    "2. **Destructiva**: La interferencia destructiva ocurre de manera similar a la interferencia constructiva, excepto que las amplitudes de las ondas son opuestas; al sumarlas, las ondas se cancelan entre sí.\n",
    "\n",
    "El siguiente diagrama ilustra la interferencia constructiva y destructiva de las ondas cuando se combinan:\n",
    "\n",
    "![image.png](./Class_01/Figures/interference.png)\n",
    "\n",
    "Uno proviene del estado base $ |0\\rangle $, mientras que el otro proviene del estado base $ |1\\rangle $.  \n",
    "**¿Recuerdas cuando partimos de uno de estos dos estados base de cúbits y preguntamos en qué lugar del eje X aterrizaría el qubit tras aplicar la puerta Hadamard?**  \n",
    "Desde $ |0\\rangle $, aterrizaría en el lado positivo del eje X, pero si colocáramos el cúbit en superposición partiendo del estado $ |1\\rangle $, aterrizaría en el lado negativo del eje X.\n",
    "\n",
    "Tener la capacidad de colocar el vector de estado del cúbit en el lado positivo o negativo del eje X nos permite ubicar el cúbit en un estado positivo o negativo. Muy similar a las ondas del diagrama anterior, que tienen amplitudes positivas (picos) y negativas (valles), los cúbits también pueden representar estados similares. Simplifiquemos esto reintroduciendo los dos valores en notación de Dirac: $ |+\\rangle $ y $ |-\\rangle $, donde:\n",
    "\n",
    "- El estado $ |+\\rangle $ representa el vector de estado en el lado positivo del eje X.\n",
    "- El estado $ |-\\rangle $ representa el vector de estado en el lado negativo del eje X.\n",
    "\n",
    "Estas nuevas definiciones de vectores, que representan el estado vectorial de un cúbit en superposición, serán utilizadas por algunos algoritmos como una técnica para identificar ciertos valores y reaccionar a ellos utilizando interferencia. Esto incluye técnicas como **estimación de amplitud** o algoritmos de búsqueda como el **algoritmo de Grover**.\n"
   ]
  },
  {
   "cell_type": "markdown",
   "metadata": {},
   "source": [
    "# Creando un circuito de teletransportación cuántica\n",
    "\n",
    "En esta sección, crearemos un circuito de teletransportación cuántica para compartir el estado, $ |\\psi\\rangle $, de un qubit mediante la comunicación clásica de dos bits de información. ¿Por qué necesitaría compartir dos bits de información y no solo el estado del cúbit en sí? Bueno, la respuesta radica en el **teorema de no-clonación**.\n",
    "\n",
    "Sin entrar en las pruebas de mecánica cuántica, el teorema establece que crear una copia de un cúbit a partir de un estado desconocido arbitrario no es posible, ya que no existe un operador unitario que pueda clonar todos los estados de un qubit en otro. Dicho esto, necesitamos buscar otros medios para transferir el estado de un qubit a otro. La **teletransportación cuántica** nos ayuda a lograrlo.\n",
    "\n",
    "Para entender correctamente este ejemplo, echemos un vistazo al proceso general. Luego, podemos profundizar en los detalles y ver cómo podemos hacerlo posible. Como se mencionó anteriormente, el objetivo es tener un emisor —llamémosla Alice— que tiene un qubit en un estado arbitrario $ |\\psi\\rangle = \\alpha|0\\rangle + \\beta|1\\rangle $ y proporciona dos bits de información al receptor —llamémoslo Bob.\n",
    "\n",
    "Alice luego enviará información a Bob de forma clásica (como comunicarse por llamada telefónica o mensaje de texto), quien realizará operaciones en un qubit que le permitirán generar el estado que Alice tenía. Decimos que **Alice tenía** ese estado porque, para enviar la información de los bits a Bob, Alice necesita realizar una medición en el estado arbitrario del qubit, lo que colapsará en valores binarios. Por lo tanto, se perderá toda la información cuántica del qubit.\n",
    "\n",
    "Para ilustrar esto, vamos a crear un circuito que siga esta idea."
   ]
  },
  {
   "cell_type": "markdown",
   "metadata": {},
   "source": [
    "1. Ahora tenemos tres cúbits. El primer cúbit (`q[0]`) representará el estado desconocido $ |\\psi\\rangle $. El segundo y tercer cúbit (`q[1]` y `q[2]`) serán los cúbits entrelazados compartidos entre Alice y Bob, respectivamente."
   ]
  },
  {
   "cell_type": "code",
   "execution_count": 6,
   "metadata": {},
   "outputs": [],
   "source": [
    "# Crear el circuito de 3 qubits\n",
    "qreg_q = QuantumRegister(3, 'q')\n",
    "creg_c = ClassicalRegister(3, 'c')\n",
    "qc = QuantumCircuit(qreg_q, creg_c)"
   ]
  },
  {
   "cell_type": "markdown",
   "metadata": {},
   "source": [
    "2. Prepararemos el primer cúbit (`q[0]`) en un estado $ |\\psi\\rangle $ desconocido que ni Alice ni Bob sabrán. Por supuesto, nosotros lo conoceremos al crearlo. Sin embargo, la idea aquí es visualizar el estado desde el contexto de Alice y Bob. Para mantener este ejemplo simple, se aplicarán dos operadores unitarios: una puerta NOT y una puerta Z.\n",
    "\n",
    "***Nota*** que se añadió una barrera después de establecer el estado $ |\\psi\\rangle $. Esto es simplemente para facilitar la visualización del circuito cuando lo dibujemos, para identificar a qué componente corresponde cada sección. En este caso, se trata del primer bloque que especifica $ |\\psi\\rangle $"
   ]
  },
  {
   "cell_type": "code",
   "execution_count": 7,
   "metadata": {},
   "outputs": [
    {
     "data": {
      "text/plain": [
       "CircuitInstruction(operation=Instruction(name='barrier', num_qubits=3, num_clbits=0, params=[]), qubits=(Qubit(QuantumRegister(3, 'q'), 0), Qubit(QuantumRegister(3, 'q'), 1), Qubit(QuantumRegister(3, 'q'), 2)), clbits=())"
      ]
     },
     "execution_count": 7,
     "metadata": {},
     "output_type": "execute_result"
    }
   ],
   "source": [
    "qc.x(0)\n",
    "qc.z(0)\n",
    "qc.barrier()"
   ]
  },
  {
   "cell_type": "markdown",
   "metadata": {},
   "source": [
    "3. Ahora que hemos preparado nuestro estado, que es conocido por nosotros pero desconocido tanto para Alice como para Bob, pasaremos al siguiente paso en nuestro diagrama de flujo: que Alice entrelace los otros dos cúbits (`q[1]` y `q[2]`) juntos. Alice conservará el qubit `q[1]` y enviará el qubit `q[2]` a Bob. Para entrelazar los dos qubits, aplicaremos una puerta Hadamard al qubit de Alice (`q[1]`), seguida de una puerta CNOT entre los dos qubits, donde el control está conectado al qubit de Alice y el objetivo está conectado al qubit de Bob. Incluiremos una barrera aquí, como hicimos anteriormente, para segmentar esta preparación.\n"
   ]
  },
  {
   "cell_type": "code",
   "execution_count": 8,
   "metadata": {},
   "outputs": [
    {
     "data": {
      "text/plain": [
       "CircuitInstruction(operation=Instruction(name='barrier', num_qubits=3, num_clbits=0, params=[]), qubits=(Qubit(QuantumRegister(3, 'q'), 0), Qubit(QuantumRegister(3, 'q'), 1), Qubit(QuantumRegister(3, 'q'), 2)), clbits=())"
      ]
     },
     "execution_count": 8,
     "metadata": {},
     "output_type": "execute_result"
    }
   ],
   "source": [
    "qc.h(1)\n",
    "qc.cx(1, 2)\n",
    "qc.barrier()"
   ]
  }
 ],
 "metadata": {
  "kernelspec": {
   "display_name": "venv",
   "language": "python",
   "name": "python3"
  },
  "language_info": {
   "codemirror_mode": {
    "name": "ipython",
    "version": 3
   },
   "file_extension": ".py",
   "mimetype": "text/x-python",
   "name": "python",
   "nbconvert_exporter": "python",
   "pygments_lexer": "ipython3",
   "version": "3.10.12"
  }
 },
 "nbformat": 4,
 "nbformat_minor": 2
}
